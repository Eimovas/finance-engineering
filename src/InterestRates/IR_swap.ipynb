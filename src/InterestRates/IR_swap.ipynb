{
 "cells": [
  {
   "cell_type": "markdown",
   "metadata": {},
   "source": [
    "# IR Swap"
   ]
  },
  {
   "cell_type": "markdown",
   "metadata": {},
   "source": [
    "Interest rate swap (IRS) is a financial product to exchange future interest payments, when one party (payer) agrees to pay a fixed rate, second party (receiver) agrees to pay a floating rate (usually tied to LIBOR or some other index) for a notional amount and for an agreed period of time.\n",
    "\n",
    "Notes:\n",
    "\n",
    "*Payment dates*: agreed, but party which pays fixed rate usually pays is less frequent than party which pays the floating rate.\n",
    "\n",
    "*Basis swap*: when both parties agree to exchange a floating rate.\n",
    "\n",
    "*Future contract*: IRS is an Over-The-Counter (OTC) contract between two (or more) counterparties.\n",
    "\n",
    "*Investments are not swaped*: only interest rate payments are, usually netted.\n",
    "\n",
    "*Payouts*: happen on an agreed schedule."
   ]
  },
  {
   "cell_type": "markdown",
   "metadata": {},
   "source": [
    "Play around..."
   ]
  },
  {
   "cell_type": "code",
   "execution_count": 1,
   "metadata": {},
   "source": [
    "#!fsharp\n",
    "let days = 360\n",
    "let rate = 0.05\n",
    "let notional = 100_000.\n",
    "let dailyRate = rate / float days"
   ],
   "outputs": []
  },
  {
   "cell_type": "code",
   "execution_count": 1,
   "metadata": {},
   "source": [
    "#!fsharp\n",
    "open System\n",
    "\n",
    "let generateOvernightRateCurve (seed : double) = \n",
    "    let rand = Random()\n",
    "    Seq.initInfinite (fun i -> i)\n",
    "    |> Seq.scan (fun acc _ -> acc + (float (rand.Next(-100, 100)) / 10_000.)) seed\n",
    "    |> Seq.mapi (fun i value -> i + 1, value)"
   ],
   "outputs": []
  },
  {
   "cell_type": "code",
   "execution_count": 1,
   "metadata": {},
   "source": [
    "#!fsharp\n",
    "let calculateInterest (notional : float) (rate : float) = notional * rate"
   ],
   "outputs": []
  },
  {
   "cell_type": "code",
   "execution_count": 1,
   "metadata": {},
   "source": [
    "#!fsharp\n",
    "let calculateCompounded period notional rate = \n",
    "    let dailyRate = rate / 360.\n",
    "    [1..period]\n",
    "    |> List.scan (fun acc _ -> acc + (calculateInterest acc dailyRate) ) notional\n",
    "\n",
    "let calculateFixed period notional rate = \n",
    "    let dailyRate = rate / 360.\n",
    "    [1..period]\n",
    "    |> List.map (fun _ -> (calculateInterest notional rate) + notional )"
   ],
   "outputs": []
  },
  {
   "cell_type": "code",
   "execution_count": 1,
   "metadata": {},
   "source": [
    "#!fsharp\n",
    "let calculateWithDaily period notional (rateMap : Map<int,float>) = \n",
    "    [1..period]\n",
    "    |> List.scan (fun acc i -> \n",
    "        let dailyRate = rateMap.[i] / 360.\n",
    "        acc + (calculateInterest notional dailyRate)\n",
    "    ) notional"
   ],
   "outputs": []
  },
  {
   "cell_type": "code",
   "execution_count": 1,
   "metadata": {},
   "source": [
    "#!fsharp\n",
    "#r \"nuget:XPlot.Plotly\""
   ],
   "outputs": [
    {
     "output_type": "execute_result",
     "data": {
      "text/plain": "Installing package XPlot.Plotly....."
     },
     "execution_count": 1,
     "metadata": {}
    },
    {
     "output_type": "execute_result",
     "data": {
      "text/plain": "Installing package FSharp.Control.Reactive....."
     },
     "execution_count": 1,
     "metadata": {}
    },
    {
     "output_type": "execute_result",
     "data": {
      "text/plain": "Installing package System.Reactive....."
     },
     "execution_count": 1,
     "metadata": {}
    },
    {
     "output_type": "error",
     "ename": "Error",
     "evalue": "C:\\Program Files\\dotnet\\sdk\\5.0.100\\NuGet.targets(131,5): error : Failed to retrieve information about 'FSharp.Control.Reactive' from remote source 'https://pkgs.dev.azure.com/dnceng/9ee6d478-d288-47f7-aacc-f6e6d082ae6d/_packaging/d1622942-d16f-48e5-bc83-96f4539e7601/nuget/v3/flat2/fsharp.control.reactive/index.json'. [C:\\Users\\estan\\AppData\\Local\\Temp\\nuget\\26428--ad9f06cb-c0d9-467f-9e02-193808ecda0b\\Project.fsproj]\r\nC:\\Program Files\\dotnet\\sdk\\5.0.100\\NuGet.targets(131,5): error :   Response status code does not indicate success: 503 (Service Unavailable). [C:\\Users\\estan\\AppData\\Local\\Temp\\nuget\\26428--ad9f06cb-c0d9-467f-9e02-193808ecda0b\\Project.fsproj]",
     "traceback": []
    }
   ]
  },
  {
   "cell_type": "code",
   "execution_count": 1,
   "metadata": {},
   "source": [
    "#!fsharp\n",
    "open XPlot.Plotly"
   ],
   "outputs": [
    {
     "output_type": "execute_result",
     "data": {
      "text/plain": "Stopped due to error\n"
     },
     "execution_count": 1,
     "metadata": {}
    },
    {
     "output_type": "error",
     "ename": "Error",
     "evalue": "input.fsx (3,13)-(3,21) typecheck error The namespace 'Reactive' is not defined.",
     "traceback": []
    }
   ]
  },
  {
   "cell_type": "code",
   "execution_count": 1,
   "metadata": {},
   "source": [
    "#!fsharp\n",
    ""
   ],
   "outputs": []
  }
 ],
 "metadata": {
  "kernelspec": {
   "display_name": ".NET (C#)",
   "language": "C#",
   "name": ".net-csharp"
  },
  "language_info": {
   "file_extension": ".cs",
   "mimetype": "text/x-csharp",
   "name": "C#",
   "pygments_lexer": "csharp",
   "version": "8.0"
  }
 },
 "nbformat": 4,
 "nbformat_minor": 4
}