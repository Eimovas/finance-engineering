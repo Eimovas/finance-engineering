{
 "cells": [
  {
   "cell_type": "markdown",
   "metadata": {},
   "source": [
    "# IR Swap"
   ]
  },
  {
   "cell_type": "markdown",
   "metadata": {},
   "source": [
    "Interest rate swap (IRS) is a financial product to exchange future interest payments, when one party (payer) agrees to pay a fixed rate, second party (receiver) agrees to pay a floating rate (usually tied to LIBOR or some other index) for a notional amount and for an agreed period of time.\n",
    "\n",
    "Notes:\n",
    "\n",
    "*Payment dates*: agreed, but party which pays fixed rate usually pays is less frequent than party which pays the floating rate.\n",
    "\n",
    "*Basis swap*: when both parties agree to exchange a floating rate.\n",
    "\n",
    "*Future contract*: IRS is an Over-The-Counter (OTC) contract between two (or more) counterparties."
   ]
  },
  {
   "cell_type": "code",
   "execution_count": 1,
   "metadata": {},
   "source": [
    "#!fsharp\n",
    ""
   ],
   "outputs": []
  }
 ],
 "metadata": {
  "kernelspec": {
   "display_name": ".NET (C#)",
   "language": "C#",
   "name": ".net-csharp"
  },
  "language_info": {
   "file_extension": ".cs",
   "mimetype": "text/x-csharp",
   "name": "C#",
   "pygments_lexer": "csharp",
   "version": "8.0"
  }
 },
 "nbformat": 4,
 "nbformat_minor": 4
}