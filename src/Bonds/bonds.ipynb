{
 "metadata": {
  "language_info": {
   "codemirror_mode": {
    "name": "ipython",
    "version": 3
   },
   "file_extension": ".py",
   "mimetype": "text/x-python",
   "name": "python",
   "nbconvert_exporter": "python",
   "pygments_lexer": "ipython3",
   "version": 3
  },
  "orig_nbformat": 2
 },
 "nbformat": 4,
 "nbformat_minor": 2,
 "cells": [
  {
   "source": [
    "# Bonds\n",
    "\n",
    "Bond is a security - legally defined contract - which can be bought and sold. Bond issuer sells bond for _face value_.\n",
    "\n",
    "## Notes\n",
    "- Bonds typically pay interest on their face value.\n",
    "- Bonds have a maturity date - a date when the bond holder will return their bond and receive the face value.\n",
    "- Bond interest rate is called _coupon_.\n",
    "- _Zero coupon_ bonds pay interest only at the maturity date.\n",
    "- Bonds have an _issue date_ - a date the bond has been issued into the market.\n",
    "- Bonds have an _dated date_ - a date when the interest on bond begins to be counted. This is typically same as issue date.\n",
    "- Bonds have a _coupon frequency_ - which is typically annual or semi-annual - a frequency by which the interest is being paid.\n",
    "- Bonds have a convention by which interest is accured, known as a day-count-basis, or simply - _basis_."
   ],
   "cell_type": "markdown",
   "metadata": {}
  },
  {
   "cell_type": "code",
   "execution_count": null,
   "metadata": {},
   "outputs": [],
   "source": []
  }
 ]
}