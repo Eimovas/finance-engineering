{
 "metadata": {
  "language_info": {
   "codemirror_mode": {
    "name": "ipython",
    "version": 3
   },
   "file_extension": ".py",
   "mimetype": "text/x-python",
   "name": "python",
   "nbconvert_exporter": "python",
   "pygments_lexer": "ipython3",
   "version": "3.7.4-final"
  },
  "orig_nbformat": 2,
  "kernelspec": {
   "name": "python3",
   "display_name": "Python 3"
  }
 },
 "nbformat": 4,
 "nbformat_minor": 2,
 "cells": [
  {
   "source": [
    "# Foreign exchange\n",
    "It's a simple process of buying one currency for another. \n",
    "\n",
    "## Notes:\n",
    "- There's no exchanges - prices are quoted by banks and aggregated into unofficial exchanges by third parties\n",
    "- Prices are quoted in form USD/EUR, where USD - base currency, EUR - term currency; for example: USD/EUR 0.66 means you can buy 0.66 EUR for 1 USD.\n",
    "- Cross rate - when USD is not mentioned in the quote, for example - EUR/JPY.\n",
    "- Spot trade - agreement to exchange notional amount of currencies in (typically) two days' time.\n",
    "- Settlement or value date - the date when two currencies _actually_ exchange hands.\n",
    "    - If the date turns out to be a weekend, or bank holiday (in either currency, or even in USD if its a cross trade), the value date is moved to the next business date."
   ],
   "cell_type": "markdown",
   "metadata": {}
  },
  {
   "cell_type": "code",
   "execution_count": 1,
   "metadata": {},
   "outputs": [],
   "source": [
    "import pandas as pd"
   ]
  },
  {
   "cell_type": "code",
   "execution_count": 4,
   "metadata": {},
   "outputs": [
    {
     "output_type": "execute_result",
     "data": {
      "text/plain": [
       "  Currency  Position  Initial_Fx  USD_Equivalent  Current_Fx  In_USD  P&L\n",
       "0      USD     -4000      1.0000           -4000      1.0000   -4000    0\n",
       "1      EUR      1000      1.4000            1400      1.4100    1410   10\n",
       "2      GBP      1000      1.6000            1600      1.6100    1610   10\n",
       "3      JPY     80000      0.0125            1000      0.0125    1000    0"
      ],
      "text/html": "<div>\n<style scoped>\n    .dataframe tbody tr th:only-of-type {\n        vertical-align: middle;\n    }\n\n    .dataframe tbody tr th {\n        vertical-align: top;\n    }\n\n    .dataframe thead th {\n        text-align: right;\n    }\n</style>\n<table border=\"1\" class=\"dataframe\">\n  <thead>\n    <tr style=\"text-align: right;\">\n      <th></th>\n      <th>Currency</th>\n      <th>Position</th>\n      <th>Initial_Fx</th>\n      <th>USD_Equivalent</th>\n      <th>Current_Fx</th>\n      <th>In_USD</th>\n      <th>P&amp;L</th>\n    </tr>\n  </thead>\n  <tbody>\n    <tr>\n      <td>0</td>\n      <td>USD</td>\n      <td>-4000</td>\n      <td>1.0000</td>\n      <td>-4000</td>\n      <td>1.0000</td>\n      <td>-4000</td>\n      <td>0</td>\n    </tr>\n    <tr>\n      <td>1</td>\n      <td>EUR</td>\n      <td>1000</td>\n      <td>1.4000</td>\n      <td>1400</td>\n      <td>1.4100</td>\n      <td>1410</td>\n      <td>10</td>\n    </tr>\n    <tr>\n      <td>2</td>\n      <td>GBP</td>\n      <td>1000</td>\n      <td>1.6000</td>\n      <td>1600</td>\n      <td>1.6100</td>\n      <td>1610</td>\n      <td>10</td>\n    </tr>\n    <tr>\n      <td>3</td>\n      <td>JPY</td>\n      <td>80000</td>\n      <td>0.0125</td>\n      <td>1000</td>\n      <td>0.0125</td>\n      <td>1000</td>\n      <td>0</td>\n    </tr>\n  </tbody>\n</table>\n</div>"
     },
     "metadata": {},
     "execution_count": 4
    }
   ],
   "source": [
    "pd.read_csv(\"sample_positions.csv\")"
   ]
  },
  {
   "cell_type": "code",
   "execution_count": null,
   "metadata": {},
   "outputs": [],
   "source": []
  }
 ]
}