{
 "cells": [
  {
   "cell_type": "markdown",
   "metadata": {},
   "source": [
    "# Equity swaps\r\n",
    "It's a simple swap transaction where one party pays a floating rate of interest and the other pays the return of a stock(+dividens, usually, if any).\r\n",
    "\r\n",
    "Sample: \r\n",
    "- Hedge fund buys an equity swap worth 10_000$ for 3 years.\r\n",
    "- Hedge fund pays any appreciation of stock (price gains) + any dividens the stock might pay. Payments are made as agreed.\r\n",
    "- Bank (seller of swap) pays an agreed floating interest rate - eg. 6M LIBOR on the notional it received.\r\n",
    "\r\n"
   ]
  },
  {
   "cell_type": "code",
   "execution_count": null,
   "metadata": {},
   "outputs": [],
   "source": []
  }
 ],
 "metadata": {
  "kernelspec": {
   "display_name": ".NET (C#)",
   "name": ".net-csharp"
  },
  "language_info": {
   "name": "dotnet-interactive.csharp",
   "nbconvert_exporter": "python"
  },
  "orig_nbformat": 2
 },
 "nbformat": 4,
 "nbformat_minor": 2
}